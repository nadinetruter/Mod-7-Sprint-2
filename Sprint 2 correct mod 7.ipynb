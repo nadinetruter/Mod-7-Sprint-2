{
 "cells": [
  {
   "cell_type": "code",
   "execution_count": 7,
   "metadata": {},
   "outputs": [],
   "source": [
    "#importing everything that I will need or might need.\n",
    "import json\n",
    "import csv\n",
    "import tweepy\n",
    "import re"
   ]
  },
  {
   "cell_type": "code",
   "execution_count": 10,
   "metadata": {},
   "outputs": [],
   "source": [
    "#Creating a function\n",
    "def search_for_hashtags(consumer_key, consumer_secret, access_token, access_token_secret, hashtag_phrase):\n",
    "    \n",
    "    #create authentication for accessing Twitter\n",
    "    auth = tweepy.OAuthHandler(consumer_key, consumer_secret)\n",
    "    auth.set_access_token(access_token, access_token_secret)\n",
    "\n",
    "    #initialize Tweepy API\n",
    "    api = tweepy.API(auth)\n",
    "    \n",
    "    #get the name of the spreadsheet we will write to\n",
    "    fname = 'data.csv'\n",
    "\n",
    "    #open the spreadsheet we will write to\n",
    "    #write only\n",
    "    with open(fname, 'w') as file:\n",
    "\n",
    "        w = csv.writer(file)\n",
    "\n",
    "        #write coloumn rows to spreadsheet\n",
    "        w.writerow(['timestamp', 'tweet_text', 'username', 'all_hashtags', 'followers_count'])\n",
    "\n",
    "        #for each tweet matching our hashtags, write relevant info to the spreadsheet\n",
    "        for tweet in tweepy.Cursor(api.search, q=hashtag_phrase+' -filter:retweets', \\\n",
    "                                   lang=\"en\", tweet_mode='extended').items(100):\n",
    "            w.writerow([tweet.created_at, tweet.full_text.replace('\\n',' ').encode('utf-8'), tweet.user.screen_name.encode('utf-8'), [e['text'] for e in tweet._json['entities']['hashtags']], tweet.user.followers_count])"
   ]
  },
  {
   "cell_type": "code",
   "execution_count": 12,
   "metadata": {},
   "outputs": [],
   "source": [
    "#adding all the necessary keys\n",
    "consumer_key = 'k0RpGuCKJuL04TXMQ0MVB7GON'  \n",
    "consumer_secret = '5bRvds4rCUMpcHv9L8QpDcfc9SD0fkT0bOymx7iBMojQkiN8Mp'  \n",
    "access_token = '1291331055702683648-CdzK0x4W4MGAyw91VzllAlLGv9SGDI'  \n",
    "access_token_secret = 'NImfRcTEay6aADwShtTmsIA0hCyjIq3t1RvIQf3SWUW9k' \n",
    "\n",
    "#I want all tweets with this hashtag\n",
    "hashtag_phrase = '#python'\n",
    "\n",
    "#call function\n",
    "if __name__ == '__main__':\n",
    "    search_for_hashtags(consumer_key, consumer_secret, access_token, access_token_secret, hashtag_phrase)"
   ]
  },
  {
   "cell_type": "code",
   "execution_count": 28,
   "metadata": {},
   "outputs": [
    {
     "data": {
      "text/html": [
       "<div>\n",
       "<style scoped>\n",
       "    .dataframe tbody tr th:only-of-type {\n",
       "        vertical-align: middle;\n",
       "    }\n",
       "\n",
       "    .dataframe tbody tr th {\n",
       "        vertical-align: top;\n",
       "    }\n",
       "\n",
       "    .dataframe thead th {\n",
       "        text-align: right;\n",
       "    }\n",
       "</style>\n",
       "<table border=\"1\" class=\"dataframe\">\n",
       "  <thead>\n",
       "    <tr style=\"text-align: right;\">\n",
       "      <th></th>\n",
       "      <th>id</th>\n",
       "      <th>timestamp</th>\n",
       "      <th>tweet_text</th>\n",
       "      <th>username</th>\n",
       "      <th>all_hashtags</th>\n",
       "      <th>followers_count</th>\n",
       "    </tr>\n",
       "  </thead>\n",
       "  <tbody>\n",
       "    <tr>\n",
       "      <th>0</th>\n",
       "      <td>1</td>\n",
       "      <td>2020-08-06 14:29:11</td>\n",
       "      <td>b'Some comparisons are truly out of the world....</td>\n",
       "      <td>b'AnalyticsSteps'</td>\n",
       "      <td>['rprogramming', 'rprogramminglanguage', 'rpro...</td>\n",
       "      <td>51</td>\n",
       "    </tr>\n",
       "    <tr>\n",
       "      <th>1</th>\n",
       "      <td>2</td>\n",
       "      <td>2020-08-06 14:27:30</td>\n",
       "      <td>b\"Presenting to you #TechThursday by @pyladies...</td>\n",
       "      <td>b'pyladieschennai'</td>\n",
       "      <td>['TechThursday', 'TechThursday', 'womenintech'...</td>\n",
       "      <td>256</td>\n",
       "    </tr>\n",
       "    <tr>\n",
       "      <th>2</th>\n",
       "      <td>3</td>\n",
       "      <td>2020-08-06 14:27:28</td>\n",
       "      <td>b\"We've been through all stages of web crawlin...</td>\n",
       "      <td>b'yashvardhan_sri'</td>\n",
       "      <td>['python', 'selenium', 'scrapinghub', 'scrapy']</td>\n",
       "      <td>123</td>\n",
       "    </tr>\n",
       "    <tr>\n",
       "      <th>3</th>\n",
       "      <td>4</td>\n",
       "      <td>2020-08-06 14:26:51</td>\n",
       "      <td>b'Want to create a Deep Learning framework fro...</td>\n",
       "      <td>b'Robofied'</td>\n",
       "      <td>['machinelearning', 'deeplearning', 'naturalla...</td>\n",
       "      <td>45</td>\n",
       "    </tr>\n",
       "    <tr>\n",
       "      <th>4</th>\n",
       "      <td>5</td>\n",
       "      <td>2020-08-06 14:26:10</td>\n",
       "      <td>b'Continuing the #Python train until end of De...</td>\n",
       "      <td>b'jdorow19'</td>\n",
       "      <td>['Python', 'codinglife']</td>\n",
       "      <td>498</td>\n",
       "    </tr>\n",
       "    <tr>\n",
       "      <th>5</th>\n",
       "      <td>6</td>\n",
       "      <td>2020-08-06 14:25:24</td>\n",
       "      <td>b\"It's been awhile since our last milestone bu...</td>\n",
       "      <td>b'anne_engineer'</td>\n",
       "      <td>['CircuitPython', 'Python', 'MicroPython']</td>\n",
       "      <td>1370</td>\n",
       "    </tr>\n",
       "    <tr>\n",
       "      <th>6</th>\n",
       "      <td>7</td>\n",
       "      <td>2020-08-06 14:24:17</td>\n",
       "      <td>b'#Python and #Django #FullStack #WebDeveloper...</td>\n",
       "      <td>b'byLilyV'</td>\n",
       "      <td>['Python', 'Django', 'FullStack', 'WebDevelope...</td>\n",
       "      <td>21692</td>\n",
       "    </tr>\n",
       "    <tr>\n",
       "      <th>7</th>\n",
       "      <td>8</td>\n",
       "      <td>2020-08-06 14:24:07</td>\n",
       "      <td>b'Deep Learning and Computer Vision A-Z\\xe2\\x8...</td>\n",
       "      <td>b'FreeHipwee'</td>\n",
       "      <td>['udemyfree', 'udemycoupon', 'DataScience', 'D...</td>\n",
       "      <td>375</td>\n",
       "    </tr>\n",
       "    <tr>\n",
       "      <th>8</th>\n",
       "      <td>9</td>\n",
       "      <td>2020-08-06 14:23:37</td>\n",
       "      <td>b'Precious Metals per 1 oz.  Silver $28.27 Pla...</td>\n",
       "      <td>b'OfficialMining'</td>\n",
       "      <td>['SEO', 'Copywriting', 'SocialMedia', 'entrepr...</td>\n",
       "      <td>23435</td>\n",
       "    </tr>\n",
       "    <tr>\n",
       "      <th>9</th>\n",
       "      <td>10</td>\n",
       "      <td>2020-08-06 14:23:00</td>\n",
       "      <td>b'Watch the replay of our webinar with @miguel...</td>\n",
       "      <td>b'Develop'</td>\n",
       "      <td>['Python']</td>\n",
       "      <td>691</td>\n",
       "    </tr>\n",
       "  </tbody>\n",
       "</table>\n",
       "</div>"
      ],
      "text/plain": [
       "   id           timestamp                                         tweet_text  \\\n",
       "0   1 2020-08-06 14:29:11  b'Some comparisons are truly out of the world....   \n",
       "1   2 2020-08-06 14:27:30  b\"Presenting to you #TechThursday by @pyladies...   \n",
       "2   3 2020-08-06 14:27:28  b\"We've been through all stages of web crawlin...   \n",
       "3   4 2020-08-06 14:26:51  b'Want to create a Deep Learning framework fro...   \n",
       "4   5 2020-08-06 14:26:10  b'Continuing the #Python train until end of De...   \n",
       "5   6 2020-08-06 14:25:24  b\"It's been awhile since our last milestone bu...   \n",
       "6   7 2020-08-06 14:24:17  b'#Python and #Django #FullStack #WebDeveloper...   \n",
       "7   8 2020-08-06 14:24:07  b'Deep Learning and Computer Vision A-Z\\xe2\\x8...   \n",
       "8   9 2020-08-06 14:23:37  b'Precious Metals per 1 oz.  Silver $28.27 Pla...   \n",
       "9  10 2020-08-06 14:23:00  b'Watch the replay of our webinar with @miguel...   \n",
       "\n",
       "             username                                       all_hashtags  \\\n",
       "0   b'AnalyticsSteps'  ['rprogramming', 'rprogramminglanguage', 'rpro...   \n",
       "1  b'pyladieschennai'  ['TechThursday', 'TechThursday', 'womenintech'...   \n",
       "2  b'yashvardhan_sri'    ['python', 'selenium', 'scrapinghub', 'scrapy']   \n",
       "3         b'Robofied'  ['machinelearning', 'deeplearning', 'naturalla...   \n",
       "4         b'jdorow19'                           ['Python', 'codinglife']   \n",
       "5    b'anne_engineer'         ['CircuitPython', 'Python', 'MicroPython']   \n",
       "6          b'byLilyV'  ['Python', 'Django', 'FullStack', 'WebDevelope...   \n",
       "7       b'FreeHipwee'  ['udemyfree', 'udemycoupon', 'DataScience', 'D...   \n",
       "8   b'OfficialMining'  ['SEO', 'Copywriting', 'SocialMedia', 'entrepr...   \n",
       "9          b'Develop'                                         ['Python']   \n",
       "\n",
       "  followers_count  \n",
       "0              51  \n",
       "1             256  \n",
       "2             123  \n",
       "3              45  \n",
       "4             498  \n",
       "5            1370  \n",
       "6           21692  \n",
       "7             375  \n",
       "8           23435  \n",
       "9             691  "
      ]
     },
     "execution_count": 28,
     "metadata": {},
     "output_type": "execute_result"
    }
   ],
   "source": [
    "#showing data visually\n",
    "\n",
    "import pandas as pd\n",
    "python_df = pd.read_json('C:/Users/nadin/Desktop/twitter2.json')\n",
    "python_df.head(10)"
   ]
  },
  {
   "cell_type": "code",
   "execution_count": 36,
   "metadata": {},
   "outputs": [
    {
     "data": {
      "image/png": "[encoded data removed]",
      "text/plain": [
       "<Figure size 432x288 with 1 Axes>"
      ]
     },
     "metadata": {
      "needs_background": "light"
     },
     "output_type": "display_data"
    }
   ],
   "source": [
    "import matplotlib.pyplot as plt\n",
    "\n",
    "plt.hist(python_df['timestamp'],bins=10)\n",
    "\n",
    "\n",
    "plt.show()"
   ]
  },
  {
   "cell_type": "code",
   "execution_count": 37,
   "metadata": {},
   "outputs": [
    {
     "data": {
      "image/png": "[encoded data removed]",
      "text/plain": [
       "<Figure size 720x432 with 1 Axes>"
      ]
     },
     "metadata": {
      "needs_background": "light"
     },
     "output_type": "display_data"
    }
   ],
   "source": [
    "import matplotlib.pyplot as plt\n",
    "\n",
    "fig=plt.figure(figsize=(10,6))\n",
    "\n",
    "ax1=fig.add_axes([0,0,1,1])\n",
    "#ax2=fig.add_axes([0.05,0.65,0.5,0.6])\n",
    "\n",
    "ax1.set_title('Time Series Visualisation')\n",
    "\n",
    "ax1.plot(patients_df['id'],patients_df['timestamp'],color='green')\n",
    "\n",
    "plt.show()"
   ]
  },
  {
   "cell_type": "code",
   "execution_count": null,
   "metadata": {},
   "outputs": [],
   "source": []
  }
 ],
 "metadata": {
  "kernelspec": {
   "display_name": "Python 3",
   "language": "python",
   "name": "python3"
  },
  "language_info": {
   "codemirror_mode": {
    "name": "ipython",
    "version": 3
   },
   "file_extension": ".py",
   "mimetype": "text/x-python",
   "name": "python",
   "nbconvert_exporter": "python",
   "pygments_lexer": "ipython3",
   "version": "3.7.6"
  }
 },
 "nbformat": 4,
 "nbformat_minor": 4
}
